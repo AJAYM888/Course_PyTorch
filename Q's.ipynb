{
  "nbformat": 4,
  "nbformat_minor": 0,
  "metadata": {
    "colab": {
      "provenance": [],
      "authorship_tag": "ABX9TyO5j0OI0SVBwxu74U/2H7Uf",
      "include_colab_link": true
    },
    "kernelspec": {
      "name": "python3",
      "display_name": "Python 3"
    },
    "language_info": {
      "name": "python"
    }
  },
  "cells": [
    {
      "cell_type": "markdown",
      "metadata": {
        "id": "view-in-github",
        "colab_type": "text"
      },
      "source": [
        "<a href=\"https://colab.research.google.com/github/AJAYM888/Course_PyTorch/blob/main/Q's.ipynb\" target=\"_parent\"><img src=\"https://colab.research.google.com/assets/colab-badge.svg\" alt=\"Open In Colab\"/></a>"
      ]
    },
    {
      "cell_type": "markdown",
      "source": [
        "## Tiger Analytics:\n",
        "\n",
        "### R1:\n",
        "1. Multithreading and multiprocessing in Python\n",
        "2. What are the pre-processing steps you will take? For example, we will consider you are going to work with unstructured text for a healthcare domain. How do you classify the patient's symptoms?\n",
        "3. You have already developed a generative AI model, which generates product description. Now, you need to deploy this model. Consider, while deployment, it should be enabled with automated monitoring and retraining. How would you implement it?\n",
        "4. Consider you are training a deep learning NLP model on a large dataset. On what? Large dataset. Yes. You are training a deep learning NLP model on a large dataset in Python. The process is taking more time than expected. How do you optimize this?\n",
        "5. You are building a Gen-A based drone approval prediction model. Now, you are observing that it exhibits bias against specific demographics. How do you approach this?\n",
        "6. Now, you are going to design a real-time sentiment analysis system for monitoring customer feedback on social media. How would you architect to process the text data efficiently?\n",
        "7. Can you explain how do you handle clean, messy, or inconsistent text data?\n",
        "8. There is an NLP pipeline for the healthcare domain. How would you design an object-oriented system for this pipeline?\n",
        "9. What is the difference between BoW (Bag of Words) and CBOW (Continuous Bag of Words)?\n",
        "10. What is RNN (Recurrent Neural Network)?\n",
        "11. What are the disadvantages of RNN?\n",
        "12. What is the difference between Traditional RNN and LSTM (Long Short-Term Memory)?\n",
        "13. Design a function that implements a sliding window mechanism for NLP token sequences. The function should:\n",
        "\n",
        "* Accept a list of tokens as input.\n",
        "\n",
        "* Allow variable-length token sequences.\n",
        "* Generate fixed-size overlapping windows using a specified window size and stride.\n",
        "* Provide options for padding:\n",
        "* 'pre': Pad at the beginning.\n",
        "* 'post': Pad at the end.\n",
        "* 'none': Do not apply padding (raise an error if the sequence is shorter than the window size).\n",
        "* Use a configurable padding token (default: <PAD>).\n",
        "* Return the list of generated windows.\n",
        "\n",
        "\n",
        "### R2:\n",
        "\n",
        "1. Can you explain the SQL agent-based architecture you worked on?\n",
        "2. What kind of data types did you work with — structured or unstructured?\n",
        "3. What was the size of the data, and how did you handle scaling for large datasets?\n",
        "4. Since building agents is easy these days with pre-built libraries, what challenges did you face while building the SQL agent?\n",
        "5. How did you customize LangChain modules to make the SQL agent more robust?\n",
        "   Did you use any NLP techniques during this exercise?\n",
        "6. Who handled the entity recognition pipeline — was it you or someone else?\n",
        "7. What kind of pre-processing tasks did you perform on the data?\n",
        "8. Did you fine-tune any NER models or use pre-trained ones for entity extraction?\n",
        "9. How did you group entities and map them to the schema?\n",
        "\n",
        "10. You mentioned working on image classification using PyTorch — can you explain what kind of defects you were identifying?\n",
        "11. What type of CNN architecture did you use — ResNet, EfficientNet, or custom models?\n",
        "12. Did you try any Vision Transformers (ViTs) for defect detection?\n",
        "13. How did you label the data for defect classification?\n",
        "14. How did you scale your pipeline when working with a large number of images?\n",
        "15. How did you combine structured data with images for better predictions?\n",
        "16. What kind of VectorDB did you use? (You mentioned ChromaDB)\n",
        "17. How did the embedding generation process work in your pipeline?\n",
        "18. What type of embeddings did you store — text, image, or both?\n",
        "19. How does ChromaDB store data — is it in the form of tokens or embeddings?\n",
        "20. Do you know how cosine similarity works?\n",
        "21. What kind of distance metrics did you apply for retrieval — Cosine, Euclidean, or Manhattan?\n",
        "22. How did you combine BM25 with Vector Search for hybrid retrieval?\n",
        "Challenges & Learnings\n",
        "23. What were the major challenges you faced in the SQL agent implementation?\n",
        "24. How did you overcome schema mapping challenges in manufacturing data?\n",
        "25. What kind of biases did you observe in your machine learning models?\n",
        "26. How did you ensure domain-specific vocabulary was captured correctly by the model?\n"
      ],
      "metadata": {
        "id": "KCoYAdXCk0wP"
      }
    },
    {
      "cell_type": "markdown",
      "source": [
        "## MathCo\n",
        "\n",
        "### R1:\n",
        "\n",
        "1. What are the challenges that you have faced while doing text-to-SQL use case? And what was the size of the data that you are operating on?\n",
        "2. What is knowledge graph?\n",
        "3. Have you heard about GraphRAG? Like, a RAG on a knowledge graph? On GraphMart, yes, yeah. So, like, how do you do it?\n",
        "4. Okay, so there is one scenario that I will do. So let's say I give you 10 documents, okay? And those documents contain some tables, some images, and a lot of text. And you have to create a chatbot which will be deployed somewhere on some cloud or something. So, can you tell me...\n",
        "5. so you know about vanilla RAG, right? It's the simple RAG that we can create. Now, sometimes that RAG is not enough for a good accuracy or something. So, what are the things we can use to improve the accuracy of our RAGs?\n",
        "6. how would I measure the efficiency of my RAG pipeline? Like, how good the RAG pipeline...\n",
        "7. what is mean reciprocal rank?\n",
        "8. what is re-ranker\n",
        "9. Can you have to count the occurrences of each letter in that word.\n",
        "10. can you write two classes to demonstrate like how you will write the code for inheritance maybe?\n",
        "11. what are multi models in LLM/Gen AI."
      ],
      "metadata": {
        "id": "btYjCofkopGg"
      }
    },
    {
      "cell_type": "code",
      "source": [],
      "metadata": {
        "id": "3rKfA1bVk8Kb"
      },
      "execution_count": null,
      "outputs": []
    }
  ]
}