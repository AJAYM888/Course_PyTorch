{
  "nbformat": 4,
  "nbformat_minor": 0,
  "metadata": {
    "colab": {
      "provenance": [],
      "gpuType": "T4",
      "authorship_tag": "ABX9TyMtIqox5RqgSEgiXu72kkle",
      "include_colab_link": true
    },
    "kernelspec": {
      "name": "python3",
      "display_name": "Python 3"
    },
    "language_info": {
      "name": "python"
    },
    "accelerator": "GPU"
  },
  "cells": [
    {
      "cell_type": "markdown",
      "metadata": {
        "id": "view-in-github",
        "colab_type": "text"
      },
      "source": [
        "<a href=\"https://colab.research.google.com/github/AJAYM888/Course_PyTorch/blob/main/00_Exercises_PyTorch_Fundamentals.ipynb\" target=\"_parent\"><img src=\"https://colab.research.google.com/assets/colab-badge.svg\" alt=\"Open In Colab\"/></a>"
      ]
    },
    {
      "cell_type": "code",
      "execution_count": null,
      "metadata": {
        "id": "3gal4IN-QcJ2"
      },
      "outputs": [],
      "source": []
    },
    {
      "cell_type": "markdown",
      "source": [
        "## 00. PyTorch Fundamentals Exercises\n",
        "\n",
        "### 1. Documentation reading\n",
        "A big part of deep learning (and learning to code in general) is getting familiar with the documentation of a certain framework you're using. We'll be using the PyTorch documentation a lot throughout the rest of this course. So I'd recommend spending 10-minutes reading the following (it's okay if you don't get some things for now, the focus is not yet full understanding, it's awareness):\n",
        "\n",
        "* The documentation on torch.Tensor: https://pytorch.org/docs/stable/tensors.html#torch-tensor.\n",
        "* The documentation on torch.cuda: https://pytorch.org/docs/main/notes/cuda.html#cuda-semantics\n",
        "\n"
      ],
      "metadata": {
        "id": "8rNJ3XYzRBVC"
      }
    },
    {
      "cell_type": "code",
      "source": [
        "# No code"
      ],
      "metadata": {
        "id": "8kkUvYvtRCDJ"
      },
      "execution_count": null,
      "outputs": []
    },
    {
      "cell_type": "markdown",
      "source": [
        "### 2. Create a random tensor with shape (7, 7).\n"
      ],
      "metadata": {
        "id": "vaoXxGcnRdlo"
      }
    },
    {
      "cell_type": "code",
      "source": [
        "import torch\n",
        "\n",
        "# Create random tensor\n",
        "random_tensor = torch.rand(7,7)\n",
        "random_tensor"
      ],
      "metadata": {
        "colab": {
          "base_uri": "https://localhost:8080/"
        },
        "id": "AIVIcc9cRnhR",
        "outputId": "0880358e-a4fb-4285-9509-06347f55aebf"
      },
      "execution_count": 2,
      "outputs": [
        {
          "output_type": "execute_result",
          "data": {
            "text/plain": [
              "tensor([[0.9281, 0.4365, 0.9115, 0.6516, 0.9136, 0.2384, 0.5167],\n",
              "        [0.5790, 0.3349, 0.1391, 0.0595, 0.0935, 0.5191, 0.3101],\n",
              "        [0.6928, 0.3837, 0.4593, 0.4205, 0.4316, 0.2027, 0.2687],\n",
              "        [0.3226, 0.9320, 0.6599, 0.2013, 0.1879, 0.8473, 0.7507],\n",
              "        [0.6328, 0.7287, 0.5942, 0.0609, 0.3064, 0.3178, 0.4249],\n",
              "        [0.5534, 0.7035, 0.2794, 0.7124, 0.4496, 0.5751, 0.2084],\n",
              "        [0.4004, 0.1272, 0.8790, 0.0389, 0.8341, 0.6430, 0.8035]])"
            ]
          },
          "metadata": {},
          "execution_count": 2
        }
      ]
    },
    {
      "cell_type": "markdown",
      "source": [
        "### 3. Perform a matrix multiplication on the tensor from 2 with another random tensor with shape (1, 7) (hint: you may have to transpose the second tensor).\n"
      ],
      "metadata": {
        "id": "yZWsSSVyR-_a"
      }
    },
    {
      "cell_type": "code",
      "source": [
        "# create random tensor B\n",
        "\n",
        "random_tensor_B = torch.rand(1,7)\n",
        "print(f\"Before transpose: {random_tensor_B}\")\n",
        "print(f\"Tensor B: {random_tensor_B.T}\")\n",
        "print(f\"Tensor B: {random_tensor_B.T.shape}\")\n",
        "\n",
        "perform_matrix_multiplication = torch.matmul(random_tensor, random_tensor_B.T)\n",
        "perform_matrix_multiplication\n"
      ],
      "metadata": {
        "colab": {
          "base_uri": "https://localhost:8080/"
        },
        "id": "ALRTTU6fRyc1",
        "outputId": "dc5a5d14-206f-43b0-bc74-87abf2dab595"
      },
      "execution_count": 14,
      "outputs": [
        {
          "output_type": "stream",
          "name": "stdout",
          "text": [
            "Before transpose: tensor([[0.2638, 0.2390, 0.0462, 0.2451, 0.6384, 0.9270, 0.5376]])\n",
            "Tensor B: tensor([[0.2638],\n",
            "        [0.2390],\n",
            "        [0.0462],\n",
            "        [0.2451],\n",
            "        [0.6384],\n",
            "        [0.9270],\n",
            "        [0.5376]])\n",
            "Tensor B: torch.Size([7, 1])\n"
          ]
        },
        {
          "output_type": "execute_result",
          "data": {
            "text/plain": [
              "tensor([[1.0715],\n",
              "        [1.0039],\n",
              "        [1.2917],\n",
              "        [1.5750],\n",
              "        [2.1247],\n",
              "        [1.4672],\n",
              "        [1.3049]])"
            ]
          },
          "metadata": {},
          "execution_count": 14
        }
      ]
    },
    {
      "cell_type": "markdown",
      "source": [
        "### 4. Set the random seed to 0 and do 2 & 3 over again.\n"
      ],
      "metadata": {
        "id": "oCq9zB5BUubJ"
      }
    },
    {
      "cell_type": "code",
      "source": [
        "# Set manual seed\n",
        "RANDOM_SEED = 0\n",
        "torch.manual_seed(RANDOM_SEED)\n",
        "# Create two random tensors\n",
        "\n",
        "random_tensor = torch.rand(7,7)\n",
        "\n",
        "random_tensor_B = torch.rand(1,7)\n",
        "\n",
        "# Matrix multiply tensors\n",
        "perform_matrix_multiplication = torch.matmul(random_tensor, random_tensor_B.T)\n",
        "perform_matrix_multiplication, perform_matrix_multiplication.shape"
      ],
      "metadata": {
        "colab": {
          "base_uri": "https://localhost:8080/"
        },
        "id": "nxGVRHkOUuMA",
        "outputId": "6681dbde-793c-41b0-9706-0fc35d689321"
      },
      "execution_count": 32,
      "outputs": [
        {
          "output_type": "execute_result",
          "data": {
            "text/plain": [
              "(tensor([[1.8542],\n",
              "         [1.9611],\n",
              "         [2.2884],\n",
              "         [3.0481],\n",
              "         [1.7067],\n",
              "         [2.5290],\n",
              "         [1.7989]]),\n",
              " torch.Size([7, 1]))"
            ]
          },
          "metadata": {},
          "execution_count": 32
        }
      ]
    },
    {
      "cell_type": "code",
      "source": [
        "# Set device type\n",
        "device = \"cuda\" if torch.cuda.is_available() else \"cpu\"\n",
        "device"
      ],
      "metadata": {
        "colab": {
          "base_uri": "https://localhost:8080/",
          "height": 35
        },
        "id": "-bMVxjKcYYxB",
        "outputId": "1631baf6-6045-45e5-e59f-38584579a8e0"
      },
      "execution_count": 6,
      "outputs": [
        {
          "output_type": "execute_result",
          "data": {
            "text/plain": [
              "'cuda'"
            ],
            "application/vnd.google.colaboratory.intrinsic+json": {
              "type": "string"
            }
          },
          "metadata": {},
          "execution_count": 6
        }
      ]
    },
    {
      "cell_type": "markdown",
      "source": [
        "### 5. Speaking of random seeds, we saw how to set it with torch.manual_seed() but is there a GPU equivalent? (hint: you'll need to look into the documentation for torch.cuda for this one)"
      ],
      "metadata": {
        "id": "_J7HFfHaXrmV"
      }
    },
    {
      "cell_type": "code",
      "source": [
        "# Set random seed on the GPU\n",
        "torch.cuda.manual_seed(1234)"
      ],
      "metadata": {
        "id": "jaP7Xm1xWjuW"
      },
      "execution_count": 7,
      "outputs": []
    },
    {
      "cell_type": "code",
      "source": [],
      "metadata": {
        "id": "tP7r6mz6YEES"
      },
      "execution_count": null,
      "outputs": []
    }
  ]
}